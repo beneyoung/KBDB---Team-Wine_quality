{
  "nbformat": 4,
  "nbformat_minor": 0,
  "metadata": {
    "colab": {
      "name": "Wine_quality_lgb.ipynb",
      "provenance": [],
      "collapsed_sections": [],
      "include_colab_link": true
    },
    "kernelspec": {
      "name": "python3",
      "display_name": "Python 3"
    },
    "language_info": {
      "name": "python"
    }
  },
  "cells": [
    {
      "cell_type": "markdown",
      "metadata": {
        "id": "view-in-github",
        "colab_type": "text"
      },
      "source": [
        "<a href=\"https://colab.research.google.com/github/beneyoung/KBDB---Team-Wine_quality/blob/main/Wine_quality_lgb.ipynb\" target=\"_parent\"><img src=\"https://colab.research.google.com/assets/colab-badge.svg\" alt=\"Open In Colab\"/></a>"
      ]
    },
    {
      "cell_type": "markdown",
      "source": [
        "#### 설치"
      ],
      "metadata": {
        "id": "xKAgDtIVpbzm"
      }
    },
    {
      "cell_type": "code",
      "execution_count": 1,
      "metadata": {
        "colab": {
          "base_uri": "https://localhost:8080/"
        },
        "id": "iMebnkY2paHI",
        "outputId": "7a882746-7f92-43b3-b6c5-a29060c739d6"
      },
      "outputs": [
        {
          "output_type": "stream",
          "name": "stdout",
          "text": [
            "Looking in indexes: https://pypi.org/simple, https://us-python.pkg.dev/colab-wheels/public/simple/\n",
            "Requirement already satisfied: category_encoders==2.* in /usr/local/lib/python3.7/dist-packages (2.5.0)\n",
            "Requirement already satisfied: patsy>=0.5.1 in /usr/local/lib/python3.7/dist-packages (from category_encoders==2.*) (0.5.2)\n",
            "Requirement already satisfied: scipy>=1.0.0 in /usr/local/lib/python3.7/dist-packages (from category_encoders==2.*) (1.7.3)\n",
            "Requirement already satisfied: pandas>=1.0.5 in /usr/local/lib/python3.7/dist-packages (from category_encoders==2.*) (1.3.5)\n",
            "Requirement already satisfied: statsmodels>=0.9.0 in /usr/local/lib/python3.7/dist-packages (from category_encoders==2.*) (0.10.2)\n",
            "Requirement already satisfied: scikit-learn>=0.20.0 in /usr/local/lib/python3.7/dist-packages (from category_encoders==2.*) (1.0.2)\n",
            "Requirement already satisfied: numpy>=1.14.0 in /usr/local/lib/python3.7/dist-packages (from category_encoders==2.*) (1.21.6)\n",
            "Requirement already satisfied: pytz>=2017.3 in /usr/local/lib/python3.7/dist-packages (from pandas>=1.0.5->category_encoders==2.*) (2022.1)\n",
            "Requirement already satisfied: python-dateutil>=2.7.3 in /usr/local/lib/python3.7/dist-packages (from pandas>=1.0.5->category_encoders==2.*) (2.8.2)\n",
            "Requirement already satisfied: six in /usr/local/lib/python3.7/dist-packages (from patsy>=0.5.1->category_encoders==2.*) (1.15.0)\n",
            "Requirement already satisfied: threadpoolctl>=2.0.0 in /usr/local/lib/python3.7/dist-packages (from scikit-learn>=0.20.0->category_encoders==2.*) (3.1.0)\n",
            "Requirement already satisfied: joblib>=0.11 in /usr/local/lib/python3.7/dist-packages (from scikit-learn>=0.20.0->category_encoders==2.*) (1.0.1)\n",
            "Looking in indexes: https://pypi.org/simple, https://us-python.pkg.dev/colab-wheels/public/simple/\n",
            "Requirement already satisfied: pandas-profiling==3.1.0 in /usr/local/lib/python3.7/dist-packages (3.1.0)\n",
            "Requirement already satisfied: pandas!=1.0.0,!=1.0.1,!=1.0.2,!=1.1.0,>=0.25.3 in /usr/local/lib/python3.7/dist-packages (from pandas-profiling==3.1.0) (1.3.5)\n",
            "Requirement already satisfied: matplotlib>=3.2.0 in /usr/local/lib/python3.7/dist-packages (from pandas-profiling==3.1.0) (3.2.2)\n",
            "Requirement already satisfied: tangled-up-in-unicode==0.1.0 in /usr/local/lib/python3.7/dist-packages (from pandas-profiling==3.1.0) (0.1.0)\n",
            "Requirement already satisfied: seaborn>=0.10.1 in /usr/local/lib/python3.7/dist-packages (from pandas-profiling==3.1.0) (0.11.2)\n",
            "Requirement already satisfied: PyYAML>=5.0.0 in /usr/local/lib/python3.7/dist-packages (from pandas-profiling==3.1.0) (6.0)\n",
            "Requirement already satisfied: multimethod>=1.4 in /usr/local/lib/python3.7/dist-packages (from pandas-profiling==3.1.0) (1.8)\n",
            "Requirement already satisfied: joblib~=1.0.1 in /usr/local/lib/python3.7/dist-packages (from pandas-profiling==3.1.0) (1.0.1)\n",
            "Requirement already satisfied: scipy>=1.4.1 in /usr/local/lib/python3.7/dist-packages (from pandas-profiling==3.1.0) (1.7.3)\n",
            "Requirement already satisfied: pydantic>=1.8.1 in /usr/local/lib/python3.7/dist-packages (from pandas-profiling==3.1.0) (1.8.2)\n",
            "Requirement already satisfied: phik>=0.11.1 in /usr/local/lib/python3.7/dist-packages (from pandas-profiling==3.1.0) (0.12.2)\n",
            "Requirement already satisfied: visions[type_image_path]==0.7.4 in /usr/local/lib/python3.7/dist-packages (from pandas-profiling==3.1.0) (0.7.4)\n",
            "Requirement already satisfied: requests>=2.24.0 in /usr/local/lib/python3.7/dist-packages (from pandas-profiling==3.1.0) (2.28.1)\n",
            "Requirement already satisfied: markupsafe~=2.0.1 in /usr/local/lib/python3.7/dist-packages (from pandas-profiling==3.1.0) (2.0.1)\n",
            "Requirement already satisfied: tqdm>=4.48.2 in /usr/local/lib/python3.7/dist-packages (from pandas-profiling==3.1.0) (4.64.0)\n",
            "Requirement already satisfied: missingno>=0.4.2 in /usr/local/lib/python3.7/dist-packages (from pandas-profiling==3.1.0) (0.5.1)\n",
            "Requirement already satisfied: jinja2>=2.11.1 in /usr/local/lib/python3.7/dist-packages (from pandas-profiling==3.1.0) (2.11.3)\n",
            "Requirement already satisfied: htmlmin>=0.1.12 in /usr/local/lib/python3.7/dist-packages (from pandas-profiling==3.1.0) (0.1.12)\n",
            "Requirement already satisfied: numpy>=1.16.0 in /usr/local/lib/python3.7/dist-packages (from pandas-profiling==3.1.0) (1.21.6)\n",
            "Requirement already satisfied: networkx>=2.4 in /usr/local/lib/python3.7/dist-packages (from visions[type_image_path]==0.7.4->pandas-profiling==3.1.0) (2.6.3)\n",
            "Requirement already satisfied: attrs>=19.3.0 in /usr/local/lib/python3.7/dist-packages (from visions[type_image_path]==0.7.4->pandas-profiling==3.1.0) (21.4.0)\n",
            "Requirement already satisfied: imagehash in /usr/local/lib/python3.7/dist-packages (from visions[type_image_path]==0.7.4->pandas-profiling==3.1.0) (4.2.1)\n",
            "Requirement already satisfied: Pillow in /usr/local/lib/python3.7/dist-packages (from visions[type_image_path]==0.7.4->pandas-profiling==3.1.0) (7.1.2)\n",
            "Requirement already satisfied: kiwisolver>=1.0.1 in /usr/local/lib/python3.7/dist-packages (from matplotlib>=3.2.0->pandas-profiling==3.1.0) (1.4.3)\n",
            "Requirement already satisfied: pyparsing!=2.0.4,!=2.1.2,!=2.1.6,>=2.0.1 in /usr/local/lib/python3.7/dist-packages (from matplotlib>=3.2.0->pandas-profiling==3.1.0) (3.0.9)\n",
            "Requirement already satisfied: python-dateutil>=2.1 in /usr/local/lib/python3.7/dist-packages (from matplotlib>=3.2.0->pandas-profiling==3.1.0) (2.8.2)\n",
            "Requirement already satisfied: cycler>=0.10 in /usr/local/lib/python3.7/dist-packages (from matplotlib>=3.2.0->pandas-profiling==3.1.0) (0.11.0)\n",
            "Requirement already satisfied: typing-extensions in /usr/local/lib/python3.7/dist-packages (from kiwisolver>=1.0.1->matplotlib>=3.2.0->pandas-profiling==3.1.0) (4.1.1)\n",
            "Requirement already satisfied: pytz>=2017.3 in /usr/local/lib/python3.7/dist-packages (from pandas!=1.0.0,!=1.0.1,!=1.0.2,!=1.1.0,>=0.25.3->pandas-profiling==3.1.0) (2022.1)\n",
            "Requirement already satisfied: six>=1.5 in /usr/local/lib/python3.7/dist-packages (from python-dateutil>=2.1->matplotlib>=3.2.0->pandas-profiling==3.1.0) (1.15.0)\n",
            "Requirement already satisfied: charset-normalizer<3,>=2 in /usr/local/lib/python3.7/dist-packages (from requests>=2.24.0->pandas-profiling==3.1.0) (2.0.12)\n",
            "Requirement already satisfied: urllib3<1.27,>=1.21.1 in /usr/local/lib/python3.7/dist-packages (from requests>=2.24.0->pandas-profiling==3.1.0) (1.24.3)\n",
            "Requirement already satisfied: idna<4,>=2.5 in /usr/local/lib/python3.7/dist-packages (from requests>=2.24.0->pandas-profiling==3.1.0) (2.10)\n",
            "Requirement already satisfied: certifi>=2017.4.17 in /usr/local/lib/python3.7/dist-packages (from requests>=2.24.0->pandas-profiling==3.1.0) (2022.6.15)\n",
            "Requirement already satisfied: PyWavelets in /usr/local/lib/python3.7/dist-packages (from imagehash->visions[type_image_path]==0.7.4->pandas-profiling==3.1.0) (1.3.0)\n"
          ]
        }
      ],
      "source": [
        "!pip install category_encoders==2.*\n",
        "!pip install pandas-profiling==3.1.0\n"
      ]
    },
    {
      "cell_type": "code",
      "source": [
        "!pip install optuna"
      ],
      "metadata": {
        "id": "NlZsRD_RSOF2",
        "outputId": "e1a0a317-be24-43f2-f1a9-862418aa3b91",
        "colab": {
          "base_uri": "https://localhost:8080/"
        }
      },
      "execution_count": 2,
      "outputs": [
        {
          "output_type": "stream",
          "name": "stdout",
          "text": [
            "Looking in indexes: https://pypi.org/simple, https://us-python.pkg.dev/colab-wheels/public/simple/\n",
            "Requirement already satisfied: optuna in /usr/local/lib/python3.7/dist-packages (2.10.1)\n",
            "Requirement already satisfied: sqlalchemy>=1.1.0 in /usr/local/lib/python3.7/dist-packages (from optuna) (1.4.37)\n",
            "Requirement already satisfied: numpy in /usr/local/lib/python3.7/dist-packages (from optuna) (1.21.6)\n",
            "Requirement already satisfied: packaging>=20.0 in /usr/local/lib/python3.7/dist-packages (from optuna) (21.3)\n",
            "Requirement already satisfied: tqdm in /usr/local/lib/python3.7/dist-packages (from optuna) (4.64.0)\n",
            "Requirement already satisfied: PyYAML in /usr/local/lib/python3.7/dist-packages (from optuna) (6.0)\n",
            "Requirement already satisfied: alembic in /usr/local/lib/python3.7/dist-packages (from optuna) (1.8.0)\n",
            "Requirement already satisfied: scipy!=1.4.0 in /usr/local/lib/python3.7/dist-packages (from optuna) (1.7.3)\n",
            "Requirement already satisfied: cliff in /usr/local/lib/python3.7/dist-packages (from optuna) (3.10.1)\n",
            "Requirement already satisfied: colorlog in /usr/local/lib/python3.7/dist-packages (from optuna) (6.6.0)\n",
            "Requirement already satisfied: cmaes>=0.8.2 in /usr/local/lib/python3.7/dist-packages (from optuna) (0.8.2)\n",
            "Requirement already satisfied: pyparsing!=3.0.5,>=2.0.2 in /usr/local/lib/python3.7/dist-packages (from packaging>=20.0->optuna) (3.0.9)\n",
            "Requirement already satisfied: importlib-metadata in /usr/local/lib/python3.7/dist-packages (from sqlalchemy>=1.1.0->optuna) (4.11.4)\n",
            "Requirement already satisfied: greenlet!=0.4.17 in /usr/local/lib/python3.7/dist-packages (from sqlalchemy>=1.1.0->optuna) (1.1.2)\n",
            "Requirement already satisfied: importlib-resources in /usr/local/lib/python3.7/dist-packages (from alembic->optuna) (5.7.1)\n",
            "Requirement already satisfied: Mako in /usr/local/lib/python3.7/dist-packages (from alembic->optuna) (1.2.1)\n",
            "Requirement already satisfied: cmd2>=1.0.0 in /usr/local/lib/python3.7/dist-packages (from cliff->optuna) (2.4.1)\n",
            "Requirement already satisfied: stevedore>=2.0.1 in /usr/local/lib/python3.7/dist-packages (from cliff->optuna) (3.5.0)\n",
            "Requirement already satisfied: PrettyTable>=0.7.2 in /usr/local/lib/python3.7/dist-packages (from cliff->optuna) (3.3.0)\n",
            "Requirement already satisfied: autopage>=0.4.0 in /usr/local/lib/python3.7/dist-packages (from cliff->optuna) (0.5.1)\n",
            "Requirement already satisfied: pbr!=2.1.0,>=2.0.0 in /usr/local/lib/python3.7/dist-packages (from cliff->optuna) (5.9.0)\n",
            "Requirement already satisfied: wcwidth>=0.1.7 in /usr/local/lib/python3.7/dist-packages (from cmd2>=1.0.0->cliff->optuna) (0.2.5)\n",
            "Requirement already satisfied: pyperclip>=1.6 in /usr/local/lib/python3.7/dist-packages (from cmd2>=1.0.0->cliff->optuna) (1.8.2)\n",
            "Requirement already satisfied: typing-extensions in /usr/local/lib/python3.7/dist-packages (from cmd2>=1.0.0->cliff->optuna) (4.1.1)\n",
            "Requirement already satisfied: attrs>=16.3.0 in /usr/local/lib/python3.7/dist-packages (from cmd2>=1.0.0->cliff->optuna) (21.4.0)\n",
            "Requirement already satisfied: zipp>=0.5 in /usr/local/lib/python3.7/dist-packages (from importlib-metadata->sqlalchemy>=1.1.0->optuna) (3.8.0)\n",
            "Requirement already satisfied: MarkupSafe>=0.9.2 in /usr/local/lib/python3.7/dist-packages (from Mako->alembic->optuna) (2.0.1)\n"
          ]
        }
      ]
    },
    {
      "cell_type": "markdown",
      "source": [
        "## Data Load"
      ],
      "metadata": {
        "id": "FcKbLRG1pexu"
      }
    },
    {
      "cell_type": "code",
      "source": [
        "from google.colab import drive\n",
        "drive.mount('/content/drive')"
      ],
      "metadata": {
        "colab": {
          "base_uri": "https://localhost:8080/"
        },
        "id": "wZKPbQW1Nqaz",
        "outputId": "71a1594a-ce94-4639-a7e9-5bb77fdc33ac"
      },
      "execution_count": 3,
      "outputs": [
        {
          "output_type": "stream",
          "name": "stdout",
          "text": [
            "Drive already mounted at /content/drive; to attempt to forcibly remount, call drive.mount(\"/content/drive\", force_remount=True).\n"
          ]
        }
      ]
    },
    {
      "cell_type": "code",
      "source": [
        "import pandas as pd\n",
        "import numpy as np\n",
        "from pandas_profiling import ProfileReport"
      ],
      "metadata": {
        "id": "DBj2yzaupiH4"
      },
      "execution_count": 4,
      "outputs": []
    },
    {
      "cell_type": "code",
      "source": [
        "train = pd.read_csv(\"https://raw.githubusercontent.com/beneyoung/KBDB---Team-Wine_quality/main/Wine_quality/train.csv\")\n",
        "test = pd.read_csv(\"https://raw.githubusercontent.com/beneyoung/KBDB---Team-Wine_quality/main/Wine_quality/test.csv\")\n",
        "# submission = pd.read_csv(\"https://raw.githubusercontent.com/beneyoung/KBDB---Team-Wine_quality/main/Wine_quality/sample_submission.csv\")\n",
        "train = train.drop(['index'], axis=1)\n",
        "test = test.drop(['index'], axis=1)"
      ],
      "metadata": {
        "id": "YaZRJ9vSpkr7"
      },
      "execution_count": 5,
      "outputs": []
    },
    {
      "cell_type": "markdown",
      "source": [
        "- index : 구분자\n",
        "- quality : 품질\n",
        "- fixed acidity : 산도 *\n",
        "- volatile acidity : 휘발성산 *\n",
        "- citric acid : 시트르산 *\n",
        "- residual sugar : 발효 후 와인 속에 남아있는 당분 *\n",
        "- chlorides : 염화물 *\n",
        "-- 이산화황 : 보존재 역할 적게 들어갈 수록 좋음, SO2가 이미 반응하여 다른 기능을 사용할 수 없게 되면 '결합'된 것으로 간주. 총량은 free와 bound의 합.\n",
        "- free sulfur dioxide : 독립 이산화황*\n",
        "- total sulfur dioxide : 총 이산화황 *\n",
        "- density : 밀도, 바디의 무게감 *\n",
        "- pH : 와인의 산도 *\n",
        "- sulphates : 황산염 *\n",
        "- alcohol : 도수 *\n",
        "- type : 종류"
      ],
      "metadata": {
        "id": "Jddide1wpm0y"
      }
    },
    {
      "cell_type": "code",
      "source": [
        "df = train\n",
        "df = pd.get_dummies(df, columns = ['type'])\n",
        "df.head(3)"
      ],
      "metadata": {
        "colab": {
          "base_uri": "https://localhost:8080/",
          "height": 205
        },
        "id": "C_4CyQLQqVKc",
        "outputId": "92bd55eb-4e07-40ac-c90c-ba27da99dcff"
      },
      "execution_count": 6,
      "outputs": [
        {
          "output_type": "execute_result",
          "data": {
            "text/plain": [
              "   quality  fixed acidity  volatile acidity  citric acid  residual sugar  \\\n",
              "0        5            5.6             0.695         0.06             6.8   \n",
              "1        5            8.8             0.610         0.14             2.4   \n",
              "2        5            7.9             0.210         0.39             2.0   \n",
              "\n",
              "   chlorides  free sulfur dioxide  total sulfur dioxide  density    pH  \\\n",
              "0      0.042                  9.0                  84.0  0.99432  3.44   \n",
              "1      0.067                 10.0                  42.0  0.99690  3.19   \n",
              "2      0.057                 21.0                 138.0  0.99176  3.05   \n",
              "\n",
              "   sulphates  alcohol  type_red  type_white  \n",
              "0       0.44     10.2         0           1  \n",
              "1       0.59      9.5         1           0  \n",
              "2       0.52     10.9         0           1  "
            ],
            "text/html": [
              "\n",
              "  <div id=\"df-f6afa610-a0e6-43b9-84a5-6b63db5bdec3\">\n",
              "    <div class=\"colab-df-container\">\n",
              "      <div>\n",
              "<style scoped>\n",
              "    .dataframe tbody tr th:only-of-type {\n",
              "        vertical-align: middle;\n",
              "    }\n",
              "\n",
              "    .dataframe tbody tr th {\n",
              "        vertical-align: top;\n",
              "    }\n",
              "\n",
              "    .dataframe thead th {\n",
              "        text-align: right;\n",
              "    }\n",
              "</style>\n",
              "<table border=\"1\" class=\"dataframe\">\n",
              "  <thead>\n",
              "    <tr style=\"text-align: right;\">\n",
              "      <th></th>\n",
              "      <th>quality</th>\n",
              "      <th>fixed acidity</th>\n",
              "      <th>volatile acidity</th>\n",
              "      <th>citric acid</th>\n",
              "      <th>residual sugar</th>\n",
              "      <th>chlorides</th>\n",
              "      <th>free sulfur dioxide</th>\n",
              "      <th>total sulfur dioxide</th>\n",
              "      <th>density</th>\n",
              "      <th>pH</th>\n",
              "      <th>sulphates</th>\n",
              "      <th>alcohol</th>\n",
              "      <th>type_red</th>\n",
              "      <th>type_white</th>\n",
              "    </tr>\n",
              "  </thead>\n",
              "  <tbody>\n",
              "    <tr>\n",
              "      <th>0</th>\n",
              "      <td>5</td>\n",
              "      <td>5.6</td>\n",
              "      <td>0.695</td>\n",
              "      <td>0.06</td>\n",
              "      <td>6.8</td>\n",
              "      <td>0.042</td>\n",
              "      <td>9.0</td>\n",
              "      <td>84.0</td>\n",
              "      <td>0.99432</td>\n",
              "      <td>3.44</td>\n",
              "      <td>0.44</td>\n",
              "      <td>10.2</td>\n",
              "      <td>0</td>\n",
              "      <td>1</td>\n",
              "    </tr>\n",
              "    <tr>\n",
              "      <th>1</th>\n",
              "      <td>5</td>\n",
              "      <td>8.8</td>\n",
              "      <td>0.610</td>\n",
              "      <td>0.14</td>\n",
              "      <td>2.4</td>\n",
              "      <td>0.067</td>\n",
              "      <td>10.0</td>\n",
              "      <td>42.0</td>\n",
              "      <td>0.99690</td>\n",
              "      <td>3.19</td>\n",
              "      <td>0.59</td>\n",
              "      <td>9.5</td>\n",
              "      <td>1</td>\n",
              "      <td>0</td>\n",
              "    </tr>\n",
              "    <tr>\n",
              "      <th>2</th>\n",
              "      <td>5</td>\n",
              "      <td>7.9</td>\n",
              "      <td>0.210</td>\n",
              "      <td>0.39</td>\n",
              "      <td>2.0</td>\n",
              "      <td>0.057</td>\n",
              "      <td>21.0</td>\n",
              "      <td>138.0</td>\n",
              "      <td>0.99176</td>\n",
              "      <td>3.05</td>\n",
              "      <td>0.52</td>\n",
              "      <td>10.9</td>\n",
              "      <td>0</td>\n",
              "      <td>1</td>\n",
              "    </tr>\n",
              "  </tbody>\n",
              "</table>\n",
              "</div>\n",
              "      <button class=\"colab-df-convert\" onclick=\"convertToInteractive('df-f6afa610-a0e6-43b9-84a5-6b63db5bdec3')\"\n",
              "              title=\"Convert this dataframe to an interactive table.\"\n",
              "              style=\"display:none;\">\n",
              "        \n",
              "  <svg xmlns=\"http://www.w3.org/2000/svg\" height=\"24px\"viewBox=\"0 0 24 24\"\n",
              "       width=\"24px\">\n",
              "    <path d=\"M0 0h24v24H0V0z\" fill=\"none\"/>\n",
              "    <path d=\"M18.56 5.44l.94 2.06.94-2.06 2.06-.94-2.06-.94-.94-2.06-.94 2.06-2.06.94zm-11 1L8.5 8.5l.94-2.06 2.06-.94-2.06-.94L8.5 2.5l-.94 2.06-2.06.94zm10 10l.94 2.06.94-2.06 2.06-.94-2.06-.94-.94-2.06-.94 2.06-2.06.94z\"/><path d=\"M17.41 7.96l-1.37-1.37c-.4-.4-.92-.59-1.43-.59-.52 0-1.04.2-1.43.59L10.3 9.45l-7.72 7.72c-.78.78-.78 2.05 0 2.83L4 21.41c.39.39.9.59 1.41.59.51 0 1.02-.2 1.41-.59l7.78-7.78 2.81-2.81c.8-.78.8-2.07 0-2.86zM5.41 20L4 18.59l7.72-7.72 1.47 1.35L5.41 20z\"/>\n",
              "  </svg>\n",
              "      </button>\n",
              "      \n",
              "  <style>\n",
              "    .colab-df-container {\n",
              "      display:flex;\n",
              "      flex-wrap:wrap;\n",
              "      gap: 12px;\n",
              "    }\n",
              "\n",
              "    .colab-df-convert {\n",
              "      background-color: #E8F0FE;\n",
              "      border: none;\n",
              "      border-radius: 50%;\n",
              "      cursor: pointer;\n",
              "      display: none;\n",
              "      fill: #1967D2;\n",
              "      height: 32px;\n",
              "      padding: 0 0 0 0;\n",
              "      width: 32px;\n",
              "    }\n",
              "\n",
              "    .colab-df-convert:hover {\n",
              "      background-color: #E2EBFA;\n",
              "      box-shadow: 0px 1px 2px rgba(60, 64, 67, 0.3), 0px 1px 3px 1px rgba(60, 64, 67, 0.15);\n",
              "      fill: #174EA6;\n",
              "    }\n",
              "\n",
              "    [theme=dark] .colab-df-convert {\n",
              "      background-color: #3B4455;\n",
              "      fill: #D2E3FC;\n",
              "    }\n",
              "\n",
              "    [theme=dark] .colab-df-convert:hover {\n",
              "      background-color: #434B5C;\n",
              "      box-shadow: 0px 1px 3px 1px rgba(0, 0, 0, 0.15);\n",
              "      filter: drop-shadow(0px 1px 2px rgba(0, 0, 0, 0.3));\n",
              "      fill: #FFFFFF;\n",
              "    }\n",
              "  </style>\n",
              "\n",
              "      <script>\n",
              "        const buttonEl =\n",
              "          document.querySelector('#df-f6afa610-a0e6-43b9-84a5-6b63db5bdec3 button.colab-df-convert');\n",
              "        buttonEl.style.display =\n",
              "          google.colab.kernel.accessAllowed ? 'block' : 'none';\n",
              "\n",
              "        async function convertToInteractive(key) {\n",
              "          const element = document.querySelector('#df-f6afa610-a0e6-43b9-84a5-6b63db5bdec3');\n",
              "          const dataTable =\n",
              "            await google.colab.kernel.invokeFunction('convertToInteractive',\n",
              "                                                     [key], {});\n",
              "          if (!dataTable) return;\n",
              "\n",
              "          const docLinkHtml = 'Like what you see? Visit the ' +\n",
              "            '<a target=\"_blank\" href=https://colab.research.google.com/notebooks/data_table.ipynb>data table notebook</a>'\n",
              "            + ' to learn more about interactive tables.';\n",
              "          element.innerHTML = '';\n",
              "          dataTable['output_type'] = 'display_data';\n",
              "          await google.colab.output.renderOutput(dataTable, element);\n",
              "          const docLink = document.createElement('div');\n",
              "          docLink.innerHTML = docLinkHtml;\n",
              "          element.appendChild(docLink);\n",
              "        }\n",
              "      </script>\n",
              "    </div>\n",
              "  </div>\n",
              "  "
            ]
          },
          "metadata": {},
          "execution_count": 6
        }
      ]
    },
    {
      "cell_type": "code",
      "source": [
        "test = pd.get_dummies(test, columns = ['type'])\n",
        "test.head(3)"
      ],
      "metadata": {
        "colab": {
          "base_uri": "https://localhost:8080/",
          "height": 187
        },
        "id": "zWs4juRHv-_9",
        "outputId": "471f79bf-df3b-424c-ee50-d492dfad4868"
      },
      "execution_count": 7,
      "outputs": [
        {
          "output_type": "execute_result",
          "data": {
            "text/plain": [
              "   fixed acidity  volatile acidity  citric acid  residual sugar  chlorides  \\\n",
              "0            9.0              0.31         0.48             6.6      0.043   \n",
              "1           13.3              0.43         0.58             1.9      0.070   \n",
              "2            6.5              0.28         0.27             5.2      0.040   \n",
              "\n",
              "   free sulfur dioxide  total sulfur dioxide  density    pH  sulphates  \\\n",
              "0                 11.0                  73.0   0.9938  2.90       0.38   \n",
              "1                 15.0                  40.0   1.0004  3.06       0.49   \n",
              "2                 44.0                 179.0   0.9948  3.19       0.69   \n",
              "\n",
              "   alcohol  type_red  type_white  \n",
              "0     11.6         0           1  \n",
              "1      9.0         1           0  \n",
              "2      9.4         0           1  "
            ],
            "text/html": [
              "\n",
              "  <div id=\"df-10f7776b-d063-4745-b2dc-4e71d0401dc7\">\n",
              "    <div class=\"colab-df-container\">\n",
              "      <div>\n",
              "<style scoped>\n",
              "    .dataframe tbody tr th:only-of-type {\n",
              "        vertical-align: middle;\n",
              "    }\n",
              "\n",
              "    .dataframe tbody tr th {\n",
              "        vertical-align: top;\n",
              "    }\n",
              "\n",
              "    .dataframe thead th {\n",
              "        text-align: right;\n",
              "    }\n",
              "</style>\n",
              "<table border=\"1\" class=\"dataframe\">\n",
              "  <thead>\n",
              "    <tr style=\"text-align: right;\">\n",
              "      <th></th>\n",
              "      <th>fixed acidity</th>\n",
              "      <th>volatile acidity</th>\n",
              "      <th>citric acid</th>\n",
              "      <th>residual sugar</th>\n",
              "      <th>chlorides</th>\n",
              "      <th>free sulfur dioxide</th>\n",
              "      <th>total sulfur dioxide</th>\n",
              "      <th>density</th>\n",
              "      <th>pH</th>\n",
              "      <th>sulphates</th>\n",
              "      <th>alcohol</th>\n",
              "      <th>type_red</th>\n",
              "      <th>type_white</th>\n",
              "    </tr>\n",
              "  </thead>\n",
              "  <tbody>\n",
              "    <tr>\n",
              "      <th>0</th>\n",
              "      <td>9.0</td>\n",
              "      <td>0.31</td>\n",
              "      <td>0.48</td>\n",
              "      <td>6.6</td>\n",
              "      <td>0.043</td>\n",
              "      <td>11.0</td>\n",
              "      <td>73.0</td>\n",
              "      <td>0.9938</td>\n",
              "      <td>2.90</td>\n",
              "      <td>0.38</td>\n",
              "      <td>11.6</td>\n",
              "      <td>0</td>\n",
              "      <td>1</td>\n",
              "    </tr>\n",
              "    <tr>\n",
              "      <th>1</th>\n",
              "      <td>13.3</td>\n",
              "      <td>0.43</td>\n",
              "      <td>0.58</td>\n",
              "      <td>1.9</td>\n",
              "      <td>0.070</td>\n",
              "      <td>15.0</td>\n",
              "      <td>40.0</td>\n",
              "      <td>1.0004</td>\n",
              "      <td>3.06</td>\n",
              "      <td>0.49</td>\n",
              "      <td>9.0</td>\n",
              "      <td>1</td>\n",
              "      <td>0</td>\n",
              "    </tr>\n",
              "    <tr>\n",
              "      <th>2</th>\n",
              "      <td>6.5</td>\n",
              "      <td>0.28</td>\n",
              "      <td>0.27</td>\n",
              "      <td>5.2</td>\n",
              "      <td>0.040</td>\n",
              "      <td>44.0</td>\n",
              "      <td>179.0</td>\n",
              "      <td>0.9948</td>\n",
              "      <td>3.19</td>\n",
              "      <td>0.69</td>\n",
              "      <td>9.4</td>\n",
              "      <td>0</td>\n",
              "      <td>1</td>\n",
              "    </tr>\n",
              "  </tbody>\n",
              "</table>\n",
              "</div>\n",
              "      <button class=\"colab-df-convert\" onclick=\"convertToInteractive('df-10f7776b-d063-4745-b2dc-4e71d0401dc7')\"\n",
              "              title=\"Convert this dataframe to an interactive table.\"\n",
              "              style=\"display:none;\">\n",
              "        \n",
              "  <svg xmlns=\"http://www.w3.org/2000/svg\" height=\"24px\"viewBox=\"0 0 24 24\"\n",
              "       width=\"24px\">\n",
              "    <path d=\"M0 0h24v24H0V0z\" fill=\"none\"/>\n",
              "    <path d=\"M18.56 5.44l.94 2.06.94-2.06 2.06-.94-2.06-.94-.94-2.06-.94 2.06-2.06.94zm-11 1L8.5 8.5l.94-2.06 2.06-.94-2.06-.94L8.5 2.5l-.94 2.06-2.06.94zm10 10l.94 2.06.94-2.06 2.06-.94-2.06-.94-.94-2.06-.94 2.06-2.06.94z\"/><path d=\"M17.41 7.96l-1.37-1.37c-.4-.4-.92-.59-1.43-.59-.52 0-1.04.2-1.43.59L10.3 9.45l-7.72 7.72c-.78.78-.78 2.05 0 2.83L4 21.41c.39.39.9.59 1.41.59.51 0 1.02-.2 1.41-.59l7.78-7.78 2.81-2.81c.8-.78.8-2.07 0-2.86zM5.41 20L4 18.59l7.72-7.72 1.47 1.35L5.41 20z\"/>\n",
              "  </svg>\n",
              "      </button>\n",
              "      \n",
              "  <style>\n",
              "    .colab-df-container {\n",
              "      display:flex;\n",
              "      flex-wrap:wrap;\n",
              "      gap: 12px;\n",
              "    }\n",
              "\n",
              "    .colab-df-convert {\n",
              "      background-color: #E8F0FE;\n",
              "      border: none;\n",
              "      border-radius: 50%;\n",
              "      cursor: pointer;\n",
              "      display: none;\n",
              "      fill: #1967D2;\n",
              "      height: 32px;\n",
              "      padding: 0 0 0 0;\n",
              "      width: 32px;\n",
              "    }\n",
              "\n",
              "    .colab-df-convert:hover {\n",
              "      background-color: #E2EBFA;\n",
              "      box-shadow: 0px 1px 2px rgba(60, 64, 67, 0.3), 0px 1px 3px 1px rgba(60, 64, 67, 0.15);\n",
              "      fill: #174EA6;\n",
              "    }\n",
              "\n",
              "    [theme=dark] .colab-df-convert {\n",
              "      background-color: #3B4455;\n",
              "      fill: #D2E3FC;\n",
              "    }\n",
              "\n",
              "    [theme=dark] .colab-df-convert:hover {\n",
              "      background-color: #434B5C;\n",
              "      box-shadow: 0px 1px 3px 1px rgba(0, 0, 0, 0.15);\n",
              "      filter: drop-shadow(0px 1px 2px rgba(0, 0, 0, 0.3));\n",
              "      fill: #FFFFFF;\n",
              "    }\n",
              "  </style>\n",
              "\n",
              "      <script>\n",
              "        const buttonEl =\n",
              "          document.querySelector('#df-10f7776b-d063-4745-b2dc-4e71d0401dc7 button.colab-df-convert');\n",
              "        buttonEl.style.display =\n",
              "          google.colab.kernel.accessAllowed ? 'block' : 'none';\n",
              "\n",
              "        async function convertToInteractive(key) {\n",
              "          const element = document.querySelector('#df-10f7776b-d063-4745-b2dc-4e71d0401dc7');\n",
              "          const dataTable =\n",
              "            await google.colab.kernel.invokeFunction('convertToInteractive',\n",
              "                                                     [key], {});\n",
              "          if (!dataTable) return;\n",
              "\n",
              "          const docLinkHtml = 'Like what you see? Visit the ' +\n",
              "            '<a target=\"_blank\" href=https://colab.research.google.com/notebooks/data_table.ipynb>data table notebook</a>'\n",
              "            + ' to learn more about interactive tables.';\n",
              "          element.innerHTML = '';\n",
              "          dataTable['output_type'] = 'display_data';\n",
              "          await google.colab.output.renderOutput(dataTable, element);\n",
              "          const docLink = document.createElement('div');\n",
              "          docLink.innerHTML = docLinkHtml;\n",
              "          element.appendChild(docLink);\n",
              "        }\n",
              "      </script>\n",
              "    </div>\n",
              "  </div>\n",
              "  "
            ]
          },
          "metadata": {},
          "execution_count": 7
        }
      ]
    },
    {
      "cell_type": "code",
      "source": [
        "# 이상치 제거\n",
        "\n",
        "features = list(df.columns)\n",
        "\n",
        "df_rmout = df\n",
        "for i in range(0, len(features)):\n",
        "    low_line = df_rmout[features[i]].mean() - 3*df_rmout[features[i]].std()\n",
        "    high_line = df_rmout[features[i]].mean() + 3*df_rmout[features[i]].std()\n",
        "\n",
        "    df_rmout = df_rmout[(df[features[i]] > low_line) & (df_rmout[features[i]] < high_line)]\n",
        "\n",
        "df_rmout.shape ,df.shape"
      ],
      "metadata": {
        "colab": {
          "base_uri": "https://localhost:8080/"
        },
        "id": "G5yi9wowDsdd",
        "outputId": "d4733844-b778-45e4-f256-1e0771096ab4"
      },
      "execution_count": 8,
      "outputs": [
        {
          "output_type": "stream",
          "name": "stderr",
          "text": [
            "/usr/local/lib/python3.7/dist-packages/ipykernel_launcher.py:10: UserWarning: Boolean Series key will be reindexed to match DataFrame index.\n",
            "  # Remove the CWD from sys.path while we load stuff.\n"
          ]
        },
        {
          "output_type": "execute_result",
          "data": {
            "text/plain": [
              "((5003, 14), (5497, 14))"
            ]
          },
          "metadata": {},
          "execution_count": 8
        }
      ]
    },
    {
      "cell_type": "code",
      "source": [
        "# feature명 정리\n",
        "target = 'quality'\n",
        "features = list(df.columns)\n",
        "features.remove(target)\n",
        "\n",
        "\n",
        "numeric = features\n",
        "numeric.remove('type_red')\n",
        "numeric.remove('type_white')\n",
        "\n",
        "nominal = ['type_red', 'type_white']"
      ],
      "metadata": {
        "id": "APHwVwxNqoi8"
      },
      "execution_count": 9,
      "outputs": []
    },
    {
      "cell_type": "code",
      "source": [
        "from sklearn.preprocessing import StandardScaler\n",
        "\n",
        "scaler = StandardScaler()\n",
        "scaler.fit(df[numeric])\n",
        "df1 = scaler.transform(df[numeric])\n",
        "df2 = pd.DataFrame(df1, columns=df[numeric].columns)\n",
        "\n",
        "aa = pd.concat([df[target],df2],axis=1)\n",
        "df_scale = pd.concat([aa,df[nominal]],axis=1)\n",
        "df_scale.head(3)\n",
        "df_scale.shape"
      ],
      "metadata": {
        "colab": {
          "base_uri": "https://localhost:8080/"
        },
        "id": "lbJXpajJrAyJ",
        "outputId": "c0f14e6b-3753-4e8e-d04e-f28861006267"
      },
      "execution_count": 10,
      "outputs": [
        {
          "output_type": "execute_result",
          "data": {
            "text/plain": [
              "(5497, 14)"
            ]
          },
          "metadata": {},
          "execution_count": 10
        }
      ]
    },
    {
      "cell_type": "code",
      "source": [
        "# scaler1 = StandardScaler()\n",
        "# scaler1.fit(df_rmout[numeric])\n",
        "# df11 = scaler1.transform(df_rmout[numeric])\n",
        "# df22 = pd.DataFrame(df11, columns=df_rmout[numeric].columns)\n",
        "\n",
        "# bb = pd.concat([df_rmout[target],df22],axis=1)\n",
        "# df_rm_scale = pd.concat([bb,df_rmout[nominal]],axis=1)\n",
        "# df_rm_scale.shape"
      ],
      "metadata": {
        "colab": {
          "base_uri": "https://localhost:8080/"
        },
        "id": "XJnBLBAEGfHi",
        "outputId": "67dfb139-b822-4253-8d21-b0623588860a"
      },
      "execution_count": 41,
      "outputs": [
        {
          "output_type": "execute_result",
          "data": {
            "text/plain": [
              "0       5\n",
              "1       5\n",
              "2       5\n",
              "3       6\n",
              "4       6\n",
              "       ..\n",
              "5492    5\n",
              "5493    6\n",
              "5494    7\n",
              "5495    5\n",
              "5496    6\n",
              "Name: quality, Length: 5003, dtype: int64"
            ]
          },
          "metadata": {},
          "execution_count": 41
        }
      ]
    },
    {
      "cell_type": "code",
      "source": [
        "df22.shape, df_rmout[target].shape, df_rmout[nominal].shape"
      ],
      "metadata": {
        "id": "8KOC9nzI3xMy",
        "outputId": "9952f0f8-fafc-46ee-9440-a6b420d9265b",
        "colab": {
          "base_uri": "https://localhost:8080/"
        }
      },
      "execution_count": 36,
      "outputs": [
        {
          "output_type": "execute_result",
          "data": {
            "text/plain": [
              "((5003, 11), (5003,), (5003, 2))"
            ]
          },
          "metadata": {},
          "execution_count": 36
        }
      ]
    },
    {
      "cell_type": "code",
      "source": [
        "scaler2 = StandardScaler()\n",
        "scaler2.fit(test[numeric])\n",
        "test1 = scaler2.transform(test[numeric])\n",
        "test2 = pd.DataFrame(test1, columns=test[numeric].columns)\n",
        "\n",
        "test_scale = pd.concat([test2,test[nominal]],axis=1)\n",
        "test_scale.head(3)"
      ],
      "metadata": {
        "colab": {
          "base_uri": "https://localhost:8080/",
          "height": 205
        },
        "id": "6FfX1B7OwKbz",
        "outputId": "27b949c7-8929-455b-a70a-693095d10300"
      },
      "execution_count": 12,
      "outputs": [
        {
          "output_type": "execute_result",
          "data": {
            "text/plain": [
              "   fixed acidity  volatile acidity  citric acid  residual sugar  chlorides  \\\n",
              "0       1.306951         -0.220579     1.098184        0.236865  -0.385503   \n",
              "1       4.507070          0.477272     1.780836       -0.749722   0.343645   \n",
              "2      -0.553583         -0.395042    -0.335387       -0.057012  -0.466520   \n",
              "\n",
              "   free sulfur dioxide  total sulfur dioxide   density        pH  sulphates  \\\n",
              "0            -1.108531             -0.756734 -0.352060 -1.943080  -1.068114   \n",
              "1            -0.888114             -1.327873  1.915724 -0.949812  -0.311854   \n",
              "2             0.709907              1.077835 -0.008456 -0.142782   1.063164   \n",
              "\n",
              "    alcohol  type_red  type_white  \n",
              "0  1.000172         0           1  \n",
              "1 -1.203025         1           0  \n",
              "2 -0.864071         0           1  "
            ],
            "text/html": [
              "\n",
              "  <div id=\"df-a0a4903d-c63a-4885-b80e-a23d179e2c2a\">\n",
              "    <div class=\"colab-df-container\">\n",
              "      <div>\n",
              "<style scoped>\n",
              "    .dataframe tbody tr th:only-of-type {\n",
              "        vertical-align: middle;\n",
              "    }\n",
              "\n",
              "    .dataframe tbody tr th {\n",
              "        vertical-align: top;\n",
              "    }\n",
              "\n",
              "    .dataframe thead th {\n",
              "        text-align: right;\n",
              "    }\n",
              "</style>\n",
              "<table border=\"1\" class=\"dataframe\">\n",
              "  <thead>\n",
              "    <tr style=\"text-align: right;\">\n",
              "      <th></th>\n",
              "      <th>fixed acidity</th>\n",
              "      <th>volatile acidity</th>\n",
              "      <th>citric acid</th>\n",
              "      <th>residual sugar</th>\n",
              "      <th>chlorides</th>\n",
              "      <th>free sulfur dioxide</th>\n",
              "      <th>total sulfur dioxide</th>\n",
              "      <th>density</th>\n",
              "      <th>pH</th>\n",
              "      <th>sulphates</th>\n",
              "      <th>alcohol</th>\n",
              "      <th>type_red</th>\n",
              "      <th>type_white</th>\n",
              "    </tr>\n",
              "  </thead>\n",
              "  <tbody>\n",
              "    <tr>\n",
              "      <th>0</th>\n",
              "      <td>1.306951</td>\n",
              "      <td>-0.220579</td>\n",
              "      <td>1.098184</td>\n",
              "      <td>0.236865</td>\n",
              "      <td>-0.385503</td>\n",
              "      <td>-1.108531</td>\n",
              "      <td>-0.756734</td>\n",
              "      <td>-0.352060</td>\n",
              "      <td>-1.943080</td>\n",
              "      <td>-1.068114</td>\n",
              "      <td>1.000172</td>\n",
              "      <td>0</td>\n",
              "      <td>1</td>\n",
              "    </tr>\n",
              "    <tr>\n",
              "      <th>1</th>\n",
              "      <td>4.507070</td>\n",
              "      <td>0.477272</td>\n",
              "      <td>1.780836</td>\n",
              "      <td>-0.749722</td>\n",
              "      <td>0.343645</td>\n",
              "      <td>-0.888114</td>\n",
              "      <td>-1.327873</td>\n",
              "      <td>1.915724</td>\n",
              "      <td>-0.949812</td>\n",
              "      <td>-0.311854</td>\n",
              "      <td>-1.203025</td>\n",
              "      <td>1</td>\n",
              "      <td>0</td>\n",
              "    </tr>\n",
              "    <tr>\n",
              "      <th>2</th>\n",
              "      <td>-0.553583</td>\n",
              "      <td>-0.395042</td>\n",
              "      <td>-0.335387</td>\n",
              "      <td>-0.057012</td>\n",
              "      <td>-0.466520</td>\n",
              "      <td>0.709907</td>\n",
              "      <td>1.077835</td>\n",
              "      <td>-0.008456</td>\n",
              "      <td>-0.142782</td>\n",
              "      <td>1.063164</td>\n",
              "      <td>-0.864071</td>\n",
              "      <td>0</td>\n",
              "      <td>1</td>\n",
              "    </tr>\n",
              "  </tbody>\n",
              "</table>\n",
              "</div>\n",
              "      <button class=\"colab-df-convert\" onclick=\"convertToInteractive('df-a0a4903d-c63a-4885-b80e-a23d179e2c2a')\"\n",
              "              title=\"Convert this dataframe to an interactive table.\"\n",
              "              style=\"display:none;\">\n",
              "        \n",
              "  <svg xmlns=\"http://www.w3.org/2000/svg\" height=\"24px\"viewBox=\"0 0 24 24\"\n",
              "       width=\"24px\">\n",
              "    <path d=\"M0 0h24v24H0V0z\" fill=\"none\"/>\n",
              "    <path d=\"M18.56 5.44l.94 2.06.94-2.06 2.06-.94-2.06-.94-.94-2.06-.94 2.06-2.06.94zm-11 1L8.5 8.5l.94-2.06 2.06-.94-2.06-.94L8.5 2.5l-.94 2.06-2.06.94zm10 10l.94 2.06.94-2.06 2.06-.94-2.06-.94-.94-2.06-.94 2.06-2.06.94z\"/><path d=\"M17.41 7.96l-1.37-1.37c-.4-.4-.92-.59-1.43-.59-.52 0-1.04.2-1.43.59L10.3 9.45l-7.72 7.72c-.78.78-.78 2.05 0 2.83L4 21.41c.39.39.9.59 1.41.59.51 0 1.02-.2 1.41-.59l7.78-7.78 2.81-2.81c.8-.78.8-2.07 0-2.86zM5.41 20L4 18.59l7.72-7.72 1.47 1.35L5.41 20z\"/>\n",
              "  </svg>\n",
              "      </button>\n",
              "      \n",
              "  <style>\n",
              "    .colab-df-container {\n",
              "      display:flex;\n",
              "      flex-wrap:wrap;\n",
              "      gap: 12px;\n",
              "    }\n",
              "\n",
              "    .colab-df-convert {\n",
              "      background-color: #E8F0FE;\n",
              "      border: none;\n",
              "      border-radius: 50%;\n",
              "      cursor: pointer;\n",
              "      display: none;\n",
              "      fill: #1967D2;\n",
              "      height: 32px;\n",
              "      padding: 0 0 0 0;\n",
              "      width: 32px;\n",
              "    }\n",
              "\n",
              "    .colab-df-convert:hover {\n",
              "      background-color: #E2EBFA;\n",
              "      box-shadow: 0px 1px 2px rgba(60, 64, 67, 0.3), 0px 1px 3px 1px rgba(60, 64, 67, 0.15);\n",
              "      fill: #174EA6;\n",
              "    }\n",
              "\n",
              "    [theme=dark] .colab-df-convert {\n",
              "      background-color: #3B4455;\n",
              "      fill: #D2E3FC;\n",
              "    }\n",
              "\n",
              "    [theme=dark] .colab-df-convert:hover {\n",
              "      background-color: #434B5C;\n",
              "      box-shadow: 0px 1px 3px 1px rgba(0, 0, 0, 0.15);\n",
              "      filter: drop-shadow(0px 1px 2px rgba(0, 0, 0, 0.3));\n",
              "      fill: #FFFFFF;\n",
              "    }\n",
              "  </style>\n",
              "\n",
              "      <script>\n",
              "        const buttonEl =\n",
              "          document.querySelector('#df-a0a4903d-c63a-4885-b80e-a23d179e2c2a button.colab-df-convert');\n",
              "        buttonEl.style.display =\n",
              "          google.colab.kernel.accessAllowed ? 'block' : 'none';\n",
              "\n",
              "        async function convertToInteractive(key) {\n",
              "          const element = document.querySelector('#df-a0a4903d-c63a-4885-b80e-a23d179e2c2a');\n",
              "          const dataTable =\n",
              "            await google.colab.kernel.invokeFunction('convertToInteractive',\n",
              "                                                     [key], {});\n",
              "          if (!dataTable) return;\n",
              "\n",
              "          const docLinkHtml = 'Like what you see? Visit the ' +\n",
              "            '<a target=\"_blank\" href=https://colab.research.google.com/notebooks/data_table.ipynb>data table notebook</a>'\n",
              "            + ' to learn more about interactive tables.';\n",
              "          element.innerHTML = '';\n",
              "          dataTable['output_type'] = 'display_data';\n",
              "          await google.colab.output.renderOutput(dataTable, element);\n",
              "          const docLink = document.createElement('div');\n",
              "          docLink.innerHTML = docLinkHtml;\n",
              "          element.appendChild(docLink);\n",
              "        }\n",
              "      </script>\n",
              "    </div>\n",
              "  </div>\n",
              "  "
            ]
          },
          "metadata": {},
          "execution_count": 12
        }
      ]
    },
    {
      "cell_type": "markdown",
      "source": [
        "#### 데이터 특성\n"
      ],
      "metadata": {
        "id": "_Z9U2tBJvlmd"
      }
    },
    {
      "cell_type": "code",
      "source": [
        "import seaborn as sns\n",
        "import matplotlib.pyplot as plt\n",
        "import matplotlib\n",
        "%matplotlib inline\n",
        "\n",
        "plt.figure(figsize=(18,8))\n",
        "corr= df.corr()\n",
        "sns.heatmap(corr, annot=True, square=False, vmin=-.6, vmax=1.0);"
      ],
      "metadata": {
        "colab": {
          "base_uri": "https://localhost:8080/",
          "height": 0
        },
        "id": "rKVx-y-Gp0X5",
        "outputId": "cf6da287-f64e-4146-aeb2-fdfa74b84d15"
      },
      "execution_count": 13,
      "outputs": [
        {
          "output_type": "display_data",
          "data": {
            "text/plain": [
              "<Figure size 1296x576 with 2 Axes>"
            ],
            "image/png": "[encoded data removed]"
          },
          "metadata": {
            "needs_background": "light"
          }
        }
      ]
    },
    {
      "cell_type": "code",
      "source": [
        "sns.set()\n",
        "plt.figure(figsize=(20,10))\n",
        "sns.boxplot(data=df)\n",
        "plt.show()"
      ],
      "metadata": {
        "colab": {
          "base_uri": "https://localhost:8080/",
          "height": 0
        },
        "id": "j-pJCB2ErFg7",
        "outputId": "7d238f43-8f15-403b-a568-64b67633d6a4"
      },
      "execution_count": 14,
      "outputs": [
        {
          "output_type": "display_data",
          "data": {
            "text/plain": [
              "<Figure size 1440x720 with 1 Axes>"
            ],
            "image/png": "[encoded data removed]"
          },
          "metadata": {}
        }
      ]
    },
    {
      "cell_type": "code",
      "source": [
        "plt.figure(figsize=(15,10))\n",
        "\n",
        "plt.subplot(3,1,1)\n",
        "sns.histplot(x = df['quality'], y = df['pH'], palette = 'Paired',multiple='fill')\n",
        "\n",
        "plt.subplot(3,1,2)\n",
        "\n",
        "sns.histplot(x = df['quality'], y = df['free sulfur dioxide'], palette = 'Paired',multiple='fill')\n",
        "\n",
        "plt.subplot(3,1,3)\n",
        "\n",
        "sns.histplot(x = df['quality'], y = df['total sulfur dioxide'], palette = 'Paired')"
      ],
      "metadata": {
        "colab": {
          "base_uri": "https://localhost:8080/",
          "height": 0
        },
        "id": "4IPsPRvm12ZF",
        "outputId": "874ee17f-11c8-4f9f-ea2f-52b65ec34f11"
      },
      "execution_count": 15,
      "outputs": [
        {
          "output_type": "execute_result",
          "data": {
            "text/plain": [
              "<matplotlib.axes._subplots.AxesSubplot at 0x7fb6fed14950>"
            ]
          },
          "metadata": {},
          "execution_count": 15
        },
        {
          "output_type": "display_data",
          "data": {
            "text/plain": [
              "<Figure size 1080x720 with 3 Axes>"
            ],
            "image/png": "[encoded data removed]"
          },
          "metadata": {}
        }
      ]
    },
    {
      "cell_type": "code",
      "source": [
        "plt.figure(figsize=(15,10))\n",
        "\n",
        "plt.subplot(2,1,1)\n",
        "sns.histplot(x = df['pH'], y = df['total sulfur dioxide'], palette = 'Paired')\n",
        "\n",
        "plt.subplot(2,1,2)\n",
        "sns.histplot(x = df['pH'], y = df['free sulfur dioxide'], palette = 'Paired')"
      ],
      "metadata": {
        "colab": {
          "base_uri": "https://localhost:8080/",
          "height": 0
        },
        "id": "G3bPDMJj14Qw",
        "outputId": "0e26d970-27d5-44f6-c28c-9ec821157e83"
      },
      "execution_count": 16,
      "outputs": [
        {
          "output_type": "execute_result",
          "data": {
            "text/plain": [
              "<matplotlib.axes._subplots.AxesSubplot at 0x7fb6fec4e210>"
            ]
          },
          "metadata": {},
          "execution_count": 16
        },
        {
          "output_type": "display_data",
          "data": {
            "text/plain": [
              "<Figure size 1080x720 with 2 Axes>"
            ],
            "image/png": "[encoded data removed]"
          },
          "metadata": {}
        }
      ]
    },
    {
      "cell_type": "code",
      "source": [
        "sns.histplot(x = df['free sulfur dioxide'], y = df['total sulfur dioxide'], palette = 'Paired',multiple='fill')"
      ],
      "metadata": {
        "colab": {
          "base_uri": "https://localhost:8080/",
          "height": 0
        },
        "id": "54UKS2N3168I",
        "outputId": "6d9327b5-ef23-4ece-cc06-582bf4c38491"
      },
      "execution_count": 17,
      "outputs": [
        {
          "output_type": "execute_result",
          "data": {
            "text/plain": [
              "<matplotlib.axes._subplots.AxesSubplot at 0x7fb6fec98050>"
            ]
          },
          "metadata": {},
          "execution_count": 17
        },
        {
          "output_type": "display_data",
          "data": {
            "text/plain": [
              "<Figure size 432x288 with 1 Axes>"
            ],
            "image/png": "[encoded data removed]"
          },
          "metadata": {}
        }
      ]
    },
    {
      "cell_type": "markdown",
      "source": [
        "## ML"
      ],
      "metadata": {
        "id": "toLJJ3L8yZQB"
      }
    },
    {
      "cell_type": "code",
      "source": [
        "from sklearn.model_selection import RandomizedSearchCV\n",
        "from sklearn.pipeline import make_pipeline\n",
        "from sklearn.metrics import classification_report\n",
        "from xgboost import XGBClassifier\n",
        "from sklearn.metrics import plot_roc_curve,accuracy_score, confusion_matrix, plot_confusion_matrix\n",
        "from sklearn.model_selection import train_test_split\n",
        "\n",
        "features = list(df.columns)\n",
        "features.remove(target)\n",
        "\n",
        "train, val = train_test_split(df, random_state = 42, test_size = 0.25, train_size = 0.75 )\n",
        "train_scale, val_scale = train_test_split(df_scale, random_state = 42, test_size = 0.25, train_size = 0.75 )\n",
        "train_scale, val_scale = train_test_split(df_scale, random_state = 42, test_size = 0.25, train_size = 0.75 )\n",
        "\n",
        "# 스케일x, 이상치 제거x\n",
        "X_train = train[features]\n",
        "y_train = train[target]\n",
        "\n",
        "X_val = val[features]\n",
        "y_val = val[target]\n",
        "\n",
        "\n",
        "# 스케일o, 이상치 제거x\n",
        "X_train_scale = train_scale[features]\n",
        "y_train_scale= train_scale[target]\n",
        "\n",
        "X_val_scale = val_scale[features]\n",
        "y_val_scale = val_scale[target]\n",
        "\n",
        "\n",
        "\n",
        "X_df = df[features]\n",
        "y_df = df[target]\n",
        "\n",
        "X_df_scale = df_scale[features]\n",
        "y_df_scale = df_scale[target]"
      ],
      "metadata": {
        "id": "mTQhklyfyisQ"
      },
      "execution_count": 18,
      "outputs": []
    },
    {
      "cell_type": "code",
      "source": [
        "# xg = XGBClassifier(n_estimators=288\n",
        "#                 , random_state=2\n",
        "#                 , n_jobs=-1\n",
        "#                 ,scale_pos_weight= 3\n",
        "#                 ,num_boost_roun= 0\n",
        "#                 ,max_depth= 15\n",
        "#                 ,learning_rate= 0.05\n",
        "#                 ,gamma= 1\n",
        "#                  )\n",
        "\n",
        "# xg.fit(X_train, y_train)\n",
        "\n",
        "# print(xg.score(X_train, y_train))\n",
        "# print(xg.score(X_val, y_val))"
      ],
      "metadata": {
        "id": "2GbDqEbTyYjP"
      },
      "execution_count": 19,
      "outputs": []
    },
    {
      "cell_type": "code",
      "source": [
        "# xg.fit(X_train11, y_train11)\n",
        "\n",
        "# print(xg.score(X_train11, y_train11))\n",
        "# print(xg.score(X_val11, y_val11))"
      ],
      "metadata": {
        "id": "s0y7k9A71YGO"
      },
      "execution_count": 20,
      "outputs": []
    },
    {
      "cell_type": "markdown",
      "source": [
        "## LGB\n",
        "\n",
        "https://nurilee.com/2020/04/03/lightgbm-definition-parameter-tuning/"
      ],
      "metadata": {
        "id": "aoBrVEn4LKQU"
      }
    },
    {
      "cell_type": "code",
      "source": [
        "import optuna\n",
        "from optuna import Trial\n",
        "from optuna.samplers import TPESampler\n",
        "from sklearn.model_selection import StratifiedKFold\n",
        "from sklearn.metrics import accuracy_score, log_loss\n",
        "from lightgbm import LGBMClassifier"
      ],
      "metadata": {
        "id": "4MtoP-42ZvR1"
      },
      "execution_count": 21,
      "outputs": []
    },
    {
      "cell_type": "code",
      "source": [
        "rows_train = df_scale.shape[0] # 주어진 train data의 row 수\n",
        "rows_test = df_scale.shape[0] # 주어진 test data의 row 수\n",
        "num_classes = len(y_df_scale.unique())\n",
        "num_trial = 100 # 파라미터 튜닝을 몇 번 진행하는지의 수\n",
        "splits_hp = 3 # 파라미터 튜닝을 진행할 때의 kfold 수\n",
        "splits_tr = 15 # 모델 트레이닝을 진행할 때의 kfold 수\n",
        "basic_seed = 42 # default seed\n",
        "num_seed_tr = 5 # 트레이닝 seed 개수\n",
        "sel_seed = 4 # 선택할 seed 개수\n",
        "\n",
        "pred_dict = {}\n",
        "pred_test_dict = {}"
      ],
      "metadata": {
        "id": "Q6QTrVkCQ9vP"
      },
      "execution_count": 22,
      "outputs": []
    },
    {
      "cell_type": "code",
      "source": [
        "\n",
        "def lgb_objective(trial: Trial, X , y, p, d):\n",
        "        params_lgb = {\n",
        "            \"random_state\": basic_seed,\n",
        "            \"verbosity\": -1,\n",
        "            \"n_estimators\": 10000,\n",
        "            \"objective\": \"multiclass\",\n",
        "            \"metric\": \"multi_logloss\",\n",
        "            \"num_class\": 7,\n",
        "            \"learning_rate\": trial.suggest_uniform(\"learning_rate\", 0.04, 0.1), # default=0.1, range=[0,1]\n",
        "            \"max_depth\": trial.suggest_int(\"max_depth\", 5, 12), # default=-1\n",
        "            \"reg_alpha\": trial.suggest_loguniform(\"reg_alpha\", 1e-2, 1e+0), # default=0\n",
        "            \"reg_lambda\": trial.suggest_loguniform(\"reg_lambda\", 1e-2, 1e+1), # default=0\n",
        "            \"num_leaves\": trial.suggest_int(\"num_leaves\", 31, 100), # default=31, range=(1,130172]\n",
        "            \"colsample_bytree\": trial.suggest_uniform(\"colsample_bytree\", 0.2, 0.8), # feature_fraction, default=1\n",
        "            \"subsample\": trial.suggest_uniform(\"subsample\", 0.5, 1.0), # bagging_fraction, default=1, range=[0,1]\n",
        "            \"subsample_freq\": trial.suggest_int(\"subsample_freq\", 1, 20), # bagging_freq, default=0\n",
        "            \"min_child_samples\": trial.suggest_int(\"min_child_samples\", 20, 30), # min_data_in_leaf, default=20 \n",
        "            \"max_bin\": trial.suggest_int(\"max_bin\", 100, 400)\n",
        "        }\n",
        "\n",
        "        model = LGBMClassifier(**params_lgb)\n",
        "        lgb_model = model.fit(X, y, verbose=-1)\n",
        "\n",
        "        score = accuracy_score(lgb_model.predict(p), d)\n",
        "        return score"
      ],
      "metadata": {
        "id": "zNgAZKkTRnRU"
      },
      "execution_count": 23,
      "outputs": []
    },
    {
      "cell_type": "code",
      "source": [
        "# study = optuna.create_study(direction='maximize', sampler=TPESampler())\n",
        "\n",
        "# study.optimize(lambda trial : lgb_objective(trial, X_train_scale, y_train_scale, X_val_scale, y_val_scale))\n",
        "# print(study.best_trial.value)\n",
        "# print(study.best_trial.params)\n"
      ],
      "metadata": {
        "id": "_ZZwI8ShRpu6"
      },
      "execution_count": 24,
      "outputs": []
    },
    {
      "cell_type": "code",
      "source": [
        "lgb_best = LGBMClassifier(learning_rate = 0.09794861466327637\n",
        "                          , max_depth = 11\n",
        "                          , reg_alpha = 0.05391808310433681\n",
        "                          , reg_lambda = 0.033948948355192535\n",
        "                          , num_leaves = 85\n",
        "                          , colsample_bytree = 0.6273896870854622\n",
        "                          , subsample = 0.9921175439507407\n",
        "                          , subsample_freq = 16\n",
        "                        #   , min_child_samples = 24\n",
        "                          , max_bin = 199\n",
        "                          , verbosity = -1\n",
        "                          , n_estimators = 10000\n",
        "                          , objective = 'multiclass'\n",
        "                          , metric = 'multi_logloss'\n",
        "                          , num_class = 7\n",
        "                          )\n",
        "\n",
        "# lgb_bestmodel = lgb_best.fit(X_train_scale, y_train_scale, verbose=-1)\n",
        "\n",
        "# score = accuracy_score(lgb_bestmodel.predict(X_val_scale), y_val_scale)\n",
        "# print(score)"
      ],
      "metadata": {
        "id": "p056p9sZMzA8"
      },
      "execution_count": 25,
      "outputs": []
    },
    {
      "cell_type": "code",
      "source": [
        "lgb_bestmodel = lgb_best.fit(X_train, y_train, verbose=-1)\n",
        "\n",
        "score = accuracy_score(lgb_bestmodel.predict(X_val), y_val)\n",
        "print(score)"
      ],
      "metadata": {
        "colab": {
          "base_uri": "https://localhost:8080/"
        },
        "id": "sA4B6MRrGkmi",
        "outputId": "ee9b1c25-a17f-4811-a5b0-df2f5381147c"
      },
      "execution_count": 26,
      "outputs": [
        {
          "output_type": "stream",
          "name": "stdout",
          "text": [
            "0.6581818181818182\n"
          ]
        }
      ]
    },
    {
      "cell_type": "code",
      "source": [
        "lgb_bestmodel = lgb_best.fit(X_train_scale, y_train_scale, verbose=-1)\n",
        "\n",
        "score = accuracy_score(lgb_bestmodel.predict(X_val_scale), y_val_scale)\n",
        "print(score)"
      ],
      "metadata": {
        "colab": {
          "base_uri": "https://localhost:8080/"
        },
        "id": "dvvu6SuPGouv",
        "outputId": "fb0d3f66-482a-44d8-f804-9ef39a7d497f"
      },
      "execution_count": 27,
      "outputs": [
        {
          "output_type": "stream",
          "name": "stdout",
          "text": [
            "0.6618181818181819\n"
          ]
        }
      ]
    },
    {
      "cell_type": "code",
      "source": [
        "test_result = []\n",
        "\n",
        "test_pred = lgb_bestmodel.predict(test_scale)\n",
        "test_result.append(test_pred)\n",
        "test_result[0]"
      ],
      "metadata": {
        "colab": {
          "base_uri": "https://localhost:8080/"
        },
        "id": "24jiWyRN-P0_",
        "outputId": "9b8ffbe5-08e4-4e14-ecfc-0ea88f3f97ad"
      },
      "execution_count": 28,
      "outputs": [
        {
          "output_type": "execute_result",
          "data": {
            "text/plain": [
              "array([5, 5, 5, 6, 6, 6, 6, 7, 6, 6, 6, 6, 7, 6, 6, 5, 6, 6, 5, 5, 6, 6,\n",
              "       5, 7, 6, 5, 5, 5, 5, 5, 7, 6, 5, 6, 5, 6, 5, 5, 6, 6, 6, 6, 6, 6,\n",
              "       6, 7, 5, 6, 5, 6, 5, 5, 6, 5, 5, 6, 6, 5, 6, 6, 5, 6, 6, 6, 6, 6,\n",
              "       5, 5, 6, 5, 5, 5, 5, 6, 6, 5, 6, 6, 7, 7, 5, 6, 5, 5, 6, 5, 5, 5,\n",
              "       6, 7, 6, 6, 6, 6, 6, 7, 6, 7, 6, 6, 5, 6, 5, 5, 6, 6, 6, 6, 7, 5,\n",
              "       6, 6, 6, 5, 5, 7, 6, 7, 7, 6, 6, 5, 6, 7, 5, 5, 6, 6, 6, 7, 5, 5,\n",
              "       6, 5, 5, 6, 6, 7, 5, 5, 5, 6, 6, 5, 5, 5, 7, 5, 7, 6, 6, 7, 6, 5,\n",
              "       6, 5, 6, 5, 6, 5, 5, 6, 6, 7, 6, 6, 6, 6, 5, 5, 5, 6, 6, 5, 6, 6,\n",
              "       6, 6, 6, 6, 6, 6, 7, 7, 5, 5, 6, 6, 5, 5, 7, 6, 5, 6, 6, 6, 6, 6,\n",
              "       5, 5, 6, 6, 5, 5, 5, 5, 6, 6, 6, 6, 7, 5, 5, 6, 6, 6, 5, 6, 6, 7,\n",
              "       6, 5, 6, 6, 7, 6, 6, 5, 6, 5, 6, 7, 7, 5, 6, 6, 6, 6, 6, 6, 6, 6,\n",
              "       6, 6, 7, 6, 6, 6, 6, 6, 5, 6, 7, 7, 6, 6, 6, 7, 6, 6, 7, 6, 5, 7,\n",
              "       5, 5, 6, 5, 5, 6, 6, 5, 5, 5, 6, 5, 7, 7, 5, 6, 6, 6, 6, 6, 7, 6,\n",
              "       6, 6, 6, 6, 5, 5, 5, 6, 5, 7, 8, 5, 5, 7, 7, 6, 5, 6, 6, 7, 5, 7,\n",
              "       5, 5, 6, 6, 5, 5, 6, 7, 5, 5, 6, 6, 5, 5, 6, 5, 4, 5, 6, 6, 6, 6,\n",
              "       5, 7, 7, 6, 5, 7, 5, 6, 6, 5, 5, 6, 7, 6, 5, 6, 5, 7, 5, 6, 5, 6,\n",
              "       5, 6, 6, 5, 5, 6, 6, 6, 5, 6, 6, 7, 7, 6, 5, 5, 7, 6, 6, 6, 5, 5,\n",
              "       6, 5, 5, 6, 6, 6, 7, 6, 7, 7, 5, 6, 6, 5, 6, 6, 7, 5, 7, 6, 5, 6,\n",
              "       5, 7, 7, 5, 7, 6, 6, 6, 7, 5, 6, 6, 6, 6, 6, 5, 6, 5, 5, 6, 6, 6,\n",
              "       5, 5, 7, 6, 5, 6, 6, 6, 6, 6, 5, 6, 6, 5, 5, 7, 6, 5, 6, 6, 5, 6,\n",
              "       5, 7, 6, 5, 6, 6, 5, 5, 5, 6, 6, 6, 5, 6, 6, 5, 7, 5, 6, 5, 5, 6,\n",
              "       6, 6, 5, 6, 6, 6, 6, 5, 5, 5, 5, 6, 5, 6, 6, 8, 7, 6, 7, 7, 6, 5,\n",
              "       6, 5, 5, 6, 5, 6, 7, 6, 5, 7, 5, 6, 6, 5, 6, 6, 6, 6, 6, 7, 6, 5,\n",
              "       6, 7, 6, 7, 5, 5, 6, 6, 6, 5, 5, 7, 6, 5, 5, 6, 5, 6, 6, 4, 7, 6,\n",
              "       6, 6, 5, 5, 6, 5, 6, 7, 6, 6, 5, 5, 6, 5, 6, 5, 6, 6, 6, 5, 6, 7,\n",
              "       6, 6, 6, 6, 5, 6, 6, 6, 5, 6, 5, 5, 6, 6, 6, 6, 6, 7, 6, 5, 6, 5,\n",
              "       5, 7, 6, 5, 6, 5, 5, 5, 6, 6, 5, 5, 6, 7, 7, 7, 5, 6, 6, 5, 7, 6,\n",
              "       6, 5, 6, 7, 6, 6, 6, 7, 6, 6, 5, 6, 5, 5, 7, 6, 8, 5, 6, 6, 6, 7,\n",
              "       5, 6, 6, 6, 6, 4, 6, 6, 5, 6, 5, 6, 5, 5, 5, 5, 6, 5, 5, 7, 5, 6,\n",
              "       6, 5, 5, 6, 6, 5, 6, 6, 6, 6, 6, 5, 7, 5, 6, 7, 5, 5, 6, 6, 6, 5,\n",
              "       7, 5, 6, 6, 6, 6, 7, 5, 6, 5, 6, 5, 5, 7, 7, 5, 6, 6, 7, 6, 7, 6,\n",
              "       7, 5, 7, 8, 6, 6, 5, 5, 7, 6, 5, 6, 5, 6, 6, 5, 6, 6, 6, 5, 6, 6,\n",
              "       6, 5, 5, 7, 5, 5, 5, 5, 6, 5, 6, 6, 5, 6, 6, 6, 5, 6, 8, 6, 5, 6,\n",
              "       6, 4, 7, 6, 5, 7, 5, 5, 7, 6, 5, 7, 6, 5, 6, 5, 6, 5, 6, 6, 7, 6,\n",
              "       6, 5, 6, 5, 6, 6, 6, 7, 5, 7, 6, 7, 5, 5, 6, 7, 6, 6, 5, 6, 5, 6,\n",
              "       5, 6, 6, 5, 6, 6, 6, 5, 6, 5, 7, 5, 5, 5, 5, 5, 5, 5, 5, 6, 5, 6,\n",
              "       6, 6, 7, 5, 6, 5, 6, 5, 5, 5, 6, 6, 5, 7, 5, 7, 6, 6, 6, 7, 5, 7,\n",
              "       7, 5, 6, 6, 6, 5, 6, 5, 5, 5, 8, 5, 6, 5, 7, 6, 6, 7, 7, 6, 7, 6,\n",
              "       6, 7, 5, 5, 5, 6, 6, 5, 6, 6, 7, 7, 7, 6, 5, 7, 5, 6, 5, 6, 7, 6,\n",
              "       5, 6, 6, 6, 6, 5, 6, 6, 5, 7, 6, 6, 7, 7, 7, 7, 5, 5, 6, 6, 6, 6,\n",
              "       5, 7, 5, 5, 5, 7, 5, 6, 7, 5, 6, 6, 6, 5, 6, 5, 6, 7, 6, 7, 6, 6,\n",
              "       5, 6, 5, 6, 5, 7, 5, 7, 6, 6, 6, 6, 6, 8, 7, 7, 5, 5, 6, 6, 6, 6,\n",
              "       7, 5, 6, 5, 6, 6, 5, 6, 5, 6, 5, 5, 5, 6, 4, 6, 5, 6, 6, 5, 8, 6,\n",
              "       6, 6, 6, 6, 6, 8, 5, 6, 6, 6, 6, 7, 6, 6, 5, 5, 5, 5, 6, 5, 5, 6,\n",
              "       5, 7, 6, 6, 7, 7, 6, 5, 6, 6, 6, 6, 6, 6, 6, 5, 5, 6, 6, 5, 5, 5,\n",
              "       6, 6, 6, 6, 7, 6, 5, 5, 6, 6])"
            ]
          },
          "metadata": {},
          "execution_count": 28
        }
      ]
    },
    {
      "cell_type": "code",
      "source": [
        "# # 제출\n",
        "# submission = pd.read_csv(\"/content/drive/MyDrive/Colab/Wine_quality/sample_submission.csv\")\n",
        "# submission['quality'] = test_result[0]\n",
        "# submission.to_csv('submission_lgb_per2.csv', index=False)"
      ],
      "metadata": {
        "id": "brDPCU-4-ms4"
      },
      "execution_count": 29,
      "outputs": []
    }
  ]
}